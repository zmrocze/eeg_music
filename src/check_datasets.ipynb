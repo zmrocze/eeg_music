{
 "cells": [
  {
   "cell_type": "code",
   "execution_count": null,
   "id": "0e326a93",
   "metadata": {},
   "outputs": [],
   "source": [
    "import openneuro as on\n",
    "\n",
    "# Download entire dataset\n",
    "on.download(dataset='ds003774', target_dir='./musin_g_data')"
   ]
  }
 ],
 "metadata": {
  "language_info": {
   "name": "python"
  }
 },
 "nbformat": 4,
 "nbformat_minor": 5
}
